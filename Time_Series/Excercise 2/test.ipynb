import numpy as np
import mathplotlib.pyplot as plt

a = np.array(1,2,3,4,5)
b = np.array(6,7,8,9,10)

a+b

